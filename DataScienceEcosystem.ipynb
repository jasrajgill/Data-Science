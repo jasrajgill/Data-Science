{
 "cells": [
  {
   "cell_type": "markdown",
   "id": "5544a579",
   "metadata": {},
   "source": [
    "# Data Science Tools and Ecosystem"
   ]
  },
  {
   "cell_type": "markdown",
   "id": "f30edbd2",
   "metadata": {},
   "source": [
    "In this notebook, Data Science Tools and Ecosystem are summarized."
   ]
  },
  {
   "cell_type": "markdown",
   "id": "4af863a8",
   "metadata": {},
   "source": [
    "Some of the popular languages that Data Scientists use are:\n",
    "\n",
    "1. Python\n",
    "2. R\n",
    "3. SQL\n"
   ]
  },
  {
   "cell_type": "markdown",
   "id": "0e1bf88a",
   "metadata": {},
   "source": [
    "Some of the commonly used libraries used by Data Scientists include:\n",
    "\n",
    "1. pandas\n",
    "2. NumPy\n",
    "3. scikit-learn\n"
   ]
  },
  {
   "cell_type": "markdown",
   "id": "5d7e39ba",
   "metadata": {},
   "source": [
    "|    Data Science Tools    |\n",
    "|:------------------------:|\n",
    "|    Jupyter Notebook      |\n",
    "|    RStudio               |\n",
    "|    Apache Zeppelin       |"
   ]
  },
  {
   "cell_type": "markdown",
   "id": "0d414599",
   "metadata": {},
   "source": [
    "### Below are a few examples of evaluating arithmetic expressions in Python."
   ]
  },
  {
   "cell_type": "code",
   "execution_count": 2,
   "id": "4b39410d",
   "metadata": {},
   "outputs": [
    {
     "name": "stdout",
     "output_type": "stream",
     "text": [
      "17\n"
     ]
    }
   ],
   "source": [
    "# This is a simple arithmetic expression to multiply then add integers\n",
    "result = (3*4) + 5\n",
    "print(result)\n"
   ]
  },
  {
   "cell_type": "code",
   "execution_count": 3,
   "id": "3b6ad5cd",
   "metadata": {},
   "outputs": [
    {
     "name": "stdout",
     "output_type": "stream",
     "text": [
      "200 minutes is equal to 3 hours and 20 remaining minutes.\n"
     ]
    }
   ],
   "source": [
    "# Starting with 200 minutes\n",
    "minutes = 200\n",
    "hours = minutes // 60  # Calculate whole hours\n",
    "\n",
    "# Use '%=' to find the remaining minutes and overwrite the 'minutes' variable\n",
    "minutes %= 60  \n",
    "\n",
    "print(f\"200 minutes is equal to {hours} hours and {minutes} remaining minutes.\")\n"
   ]
  },
  {
   "cell_type": "markdown",
   "id": "d112f428",
   "metadata": {},
   "source": [
    "**Objectives:**\n",
    "\n",
    "- List popular languages for Data Science.\n",
    "- Identify commonly used libraries in Data Science.\n",
    "- Introduce arithmetic expression examples in Python.\n",
    "- Demonstrate how to convert minutes to hours in Python.\n",
    "- Discuss the importance of diverse teams in mitigating bias in AI.\n"
   ]
  },
  {
   "cell_type": "markdown",
   "id": "f68bd940",
   "metadata": {},
   "source": [
    "## Author\n",
    "Jasraj Kaur Gill\n"
   ]
  }
 ],
 "metadata": {
  "kernelspec": {
   "display_name": "Python 3 (ipykernel)",
   "language": "python",
   "name": "python3"
  },
  "language_info": {
   "codemirror_mode": {
    "name": "ipython",
    "version": 3
   },
   "file_extension": ".py",
   "mimetype": "text/x-python",
   "name": "python",
   "nbconvert_exporter": "python",
   "pygments_lexer": "ipython3",
   "version": "3.11.5"
  },
  "varInspector": {
   "cols": {
    "lenName": 16,
    "lenType": 16,
    "lenVar": 40
   },
   "kernels_config": {
    "python": {
     "delete_cmd_postfix": "",
     "delete_cmd_prefix": "del ",
     "library": "var_list.py",
     "varRefreshCmd": "print(var_dic_list())"
    },
    "r": {
     "delete_cmd_postfix": ") ",
     "delete_cmd_prefix": "rm(",
     "library": "var_list.r",
     "varRefreshCmd": "cat(var_dic_list()) "
    }
   },
   "types_to_exclude": [
    "module",
    "function",
    "builtin_function_or_method",
    "instance",
    "_Feature"
   ],
   "window_display": false
  }
 },
 "nbformat": 4,
 "nbformat_minor": 5
}
